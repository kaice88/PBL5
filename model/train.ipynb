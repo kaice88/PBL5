{
 "cells": [
  {
   "cell_type": "code",
   "execution_count": 22,
   "metadata": {
    "collapsed": true
   },
   "outputs": [],
   "source": [
    "import os\n",
    "import pickle\n",
    "\n",
    "import pandas as pd\n",
    "import numpy as np\n",
    "\n",
    "# Modelling\n",
    "from sklearn.ensemble import RandomForestClassifier\n",
    "from sklearn.metrics import accuracy_score, confusion_matrix, precision_score, recall_score, ConfusionMatrixDisplay\n",
    "from sklearn.model_selection import RandomizedSearchCV, train_test_split\n",
    "\n",
    "# Tree Visualisation\n",
    "from sklearn.tree import export_graphviz\n",
    "from IPython.display import display\n",
    "\n",
    "import graphviz"
   ]
  },
  {
   "cell_type": "code",
   "execution_count": 23,
   "outputs": [],
   "source": [
    "import os\n",
    "os.environ[\"PATH\"] += os.pathsep + 'C:/Program Files/Graphviz/bin'"
   ],
   "metadata": {
    "collapsed": false
   }
  },
  {
   "cell_type": "code",
   "execution_count": 24,
   "outputs": [],
   "source": [
    "import matplotlib\n",
    "import matplotlib.pyplot as plt\n",
    "matplotlib.use('TkAgg')"
   ],
   "metadata": {
    "collapsed": false
   }
  },
  {
   "cell_type": "code",
   "execution_count": 28,
   "outputs": [],
   "source": [
    "def train(X, y, classes_label ,pkl_file_path):\n",
    "    X_train,  X_test,y_train, y_test = train_test_split(X,y, test_size= 0.2 ,random_state=2, shuffle=True, stratify=y)\n",
    "    forest = RandomForestClassifier(n_estimators=100, random_state=1)\n",
    "    forest.fit(X_train, y_train)\n",
    "    y_pred = forest.predict(X_test)\n",
    "    accuracy = accuracy_score(y_test, y_pred)\n",
    "    print(\"Accuracy: \", accuracy)\n",
    "    cm = confusion_matrix(y_test, y_pred)\n",
    "    disp = ConfusionMatrixDisplay(confusion_matrix=cm, display_labels=classes_label)\n",
    "\n",
    "    # Create the plot\n",
    "    disp.plot()\n",
    "\n",
    "    # Set the title and other configurations (if desired)\n",
    "    plt.title(\"Confusion Matrix\")\n",
    "    plt.xlabel(\"Predicted Labels\")\n",
    "    plt.ylabel(\"True Labels\")\n",
    "    plt.savefig(\"confusion_matrix\"+ pkl_file_path.replace(\".pkl\", \"png\"))\n",
    "\n",
    "    print(\"-------------------------------------------\")\n",
    "    # with open(pkl_file_path, 'wb') as f:\n",
    "    #     pickle.dump(forest, f)\n",
    "\n",
    "    # for i in range(3):\n",
    "    #     tree =forest.estimators_[i]\n",
    "    #     dot_data = export_graphviz(tree,\n",
    "    #                                feature_names=['angle'],\n",
    "    #                                filled=True,\n",
    "    #                                max_depth=2,\n",
    "    #                                impurity=False,\n",
    "    #                                proportion=True)\n",
    "    #     graph = graphviz.Source(dot_data, format='png')\n",
    "    #     display(graph)"
   ],
   "metadata": {
    "collapsed": false
   }
  },
  {
   "cell_type": "markdown",
   "source": [
    "### Train head"
   ],
   "metadata": {
    "collapsed": false
   }
  },
  {
   "cell_type": "code",
   "execution_count": 31,
   "outputs": [
    {
     "name": "stdout",
     "output_type": "stream",
     "text": [
      "Accuracy:  0.9250814332247557\n",
      "-------------------------------------------\n"
     ]
    }
   ],
   "source": [
    "head_data = pd.read_csv(\"../data/Features_Head.csv\")\n",
    "y_head = head_data['label']\n",
    "X_head = np.array(head_data['angle']).reshape(-1, 1)\n",
    "train(X_head,y_head,['Wrong head', 'Correct head'], 'head_forest.pkl')"
   ],
   "metadata": {
    "collapsed": false
   }
  },
  {
   "cell_type": "markdown",
   "source": [
    "### Train back"
   ],
   "metadata": {
    "collapsed": false
   }
  },
  {
   "cell_type": "code",
   "execution_count": 32,
   "outputs": [
    {
     "name": "stdout",
     "output_type": "stream",
     "text": [
      "Accuracy:  0.9060092449922958\n",
      "-------------------------------------------\n"
     ]
    }
   ],
   "source": [
    "import pandas as pd\n",
    "import numpy as np\n",
    "head_data = pd.read_csv(\"../data/Features_Back.csv\")\n",
    "y_head = head_data['label']\n",
    "X_head = np.array(head_data['angle']).reshape(-1, 1)\n",
    "train(X_head,y_head,['Correct back', 'Leaning back', 'Leaning forward'], 'back_forest.pkl')"
   ],
   "metadata": {
    "collapsed": false
   }
  },
  {
   "cell_type": "code",
   "execution_count": 30,
   "outputs": [
    {
     "name": "stdout",
     "output_type": "stream",
     "text": [
      "Accuracy:  0.926829268292683\n",
      "-------------------------------------------\n"
     ]
    }
   ],
   "source": [
    "leg_data = pd.read_csv(\"../data/Features_Leg.csv\")\n",
    "y_leg = leg_data['label']\n",
    "X_leg = np.array(leg_data[['angle1', 'angle2']])\n",
    "train(X_leg,y_leg,['Wrong leg', 'Correct leg'], 'leg_forest.pkl')"
   ],
   "metadata": {
    "collapsed": false
   }
  },
  {
   "cell_type": "code",
   "execution_count": null,
   "outputs": [],
   "source": [],
   "metadata": {
    "collapsed": false
   }
  }
 ],
 "metadata": {
  "kernelspec": {
   "display_name": "Python 3",
   "language": "python",
   "name": "python3"
  },
  "language_info": {
   "codemirror_mode": {
    "name": "ipython",
    "version": 2
   },
   "file_extension": ".py",
   "mimetype": "text/x-python",
   "name": "python",
   "nbconvert_exporter": "python",
   "pygments_lexer": "ipython2",
   "version": "2.7.6"
  }
 },
 "nbformat": 4,
 "nbformat_minor": 0
}
