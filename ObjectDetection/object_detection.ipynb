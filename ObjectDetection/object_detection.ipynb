{
 "cells": [
  {
   "cell_type": "markdown",
   "source": [
    "Import libraries"
   ],
   "metadata": {
    "collapsed": false
   }
  },
  {
   "cell_type": "code",
   "execution_count": 6,
   "outputs": [],
   "source": [
    "import object_detection\n",
    "import torchvision.models.detection\n",
    "from torchvision.models.detection import MaskRCNN_ResNet50_FPN_V2_Weights\n",
    "from PIL import Image\n",
    "import os"
   ],
   "metadata": {
    "collapsed": false
   }
  },
  {
   "cell_type": "markdown",
   "source": [
    "Input, output folders"
   ],
   "metadata": {
    "collapsed": false
   }
  },
  {
   "cell_type": "code",
   "execution_count": 7,
   "outputs": [],
   "source": [
    "input_folder = \"M:/HK6/PBL5/TestImages\"\n",
    "folder_names = [\"Original\"]\n",
    "output_folder = \"M:/HK6/PBL5/TestImages/Processed\""
   ],
   "metadata": {
    "collapsed": false
   }
  },
  {
   "cell_type": "markdown",
   "source": [
    "Image size"
   ],
   "metadata": {
    "collapsed": false
   }
  },
  {
   "cell_type": "code",
   "execution_count": 8,
   "outputs": [],
   "source": [
    "# Set the desired image size\n",
    "SIZES = [(256, 192), (224, 224), (512, 300), (640, 480), (480, 256), (480, 224), (512, 512), (300, 300)]"
   ],
   "metadata": {
    "collapsed": false
   }
  },
  {
   "cell_type": "markdown",
   "source": [
    "Load model"
   ],
   "metadata": {
    "collapsed": false
   }
  },
  {
   "cell_type": "code",
   "execution_count": 9,
   "outputs": [],
   "source": [
    "# model = torchvision.models.detection.maskrcnn_resnet50_fpn_v2(weights = MaskRCNN_ResNet50_FPN_V2_Weights)\n",
    "# model.eval()"
   ],
   "metadata": {
    "collapsed": false
   }
  },
  {
   "cell_type": "markdown",
   "source": [
    "Iterate and process images"
   ],
   "metadata": {
    "collapsed": false
   }
  },
  {
   "cell_type": "code",
   "execution_count": 10,
   "metadata": {
    "collapsed": true
   },
   "outputs": [],
   "source": [
    "# Iterate over all images in the input folder\n",
    "for sub_folder in folder_names:\n",
    "    folder = input_folder + \"/\" + sub_folder\n",
    "    for filename in os.listdir(folder):\n",
    "        # Process the image and save it to the output folder\n",
    "        image_path = os.path.join(folder, filename)\n",
    "        try:\n",
    "            image = Image.open(image_path)\n",
    "            processed_image = object_detection.process_image(image, 256, 192, object_detection.model)\n",
    "            new_output_folder = output_folder + \"/\" + str(256) + \"x\" + str(192) + \"/\" + sub_folder\n",
    "            if not os.path.exists(new_output_folder):\n",
    "                os.makedirs(new_output_folder)\n",
    "            output_path = new_output_folder + \"/\" + filename\n",
    "            torchvision.utils.save_image(processed_image, output_path)\n",
    "        except ValueError as e:\n",
    "            print(\"Exception: \" + str(e) + \" for \" + filename)"
   ]
  },
  {
   "cell_type": "code",
   "execution_count": 10,
   "outputs": [],
   "source": [],
   "metadata": {
    "collapsed": false
   }
  }
 ],
 "metadata": {
  "kernelspec": {
   "display_name": "Python 3",
   "language": "python",
   "name": "python3"
  },
  "language_info": {
   "codemirror_mode": {
    "name": "ipython",
    "version": 2
   },
   "file_extension": ".py",
   "mimetype": "text/x-python",
   "name": "python",
   "nbconvert_exporter": "python",
   "pygments_lexer": "ipython2",
   "version": "2.7.6"
  }
 },
 "nbformat": 4,
 "nbformat_minor": 0
}
